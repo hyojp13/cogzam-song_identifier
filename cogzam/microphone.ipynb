{
 "cells": [
  {
   "cell_type": "code",
   "execution_count": null,
   "id": "6948f791",
   "metadata": {},
   "outputs": [],
   "source": [
    "import numpy as np\n",
    "from microphone import record_audio\n",
    "def record(listen_time: float):\n",
    "\n",
    "    frames, sample_rate = record_audio(listen_time)\n",
    "    samples = np.hstack([np.frombuffer(i, np.int16) for i in frames])\n",
    "    return samples"
   ]
  }
 ],
 "metadata": {
  "kernelspec": {
   "display_name": "Python 3",
   "language": "python",
   "name": "python3"
  },
  "language_info": {
   "codemirror_mode": {
    "name": "ipython",
    "version": 3
   },
   "file_extension": ".py",
   "mimetype": "text/x-python",
   "name": "python",
   "nbconvert_exporter": "python",
   "pygments_lexer": "ipython3",
   "version": "3.8.10"
  }
 },
 "nbformat": 4,
 "nbformat_minor": 5
}
