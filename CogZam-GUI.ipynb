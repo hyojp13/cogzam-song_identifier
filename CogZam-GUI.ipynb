{
 "cells": [
  {
   "cell_type": "code",
   "execution_count": 3,
   "source": [
    "import pickle\n",
    "import PySimpleGUI as sg\n",
    "import cogzam as cz"
   ],
   "outputs": [],
   "metadata": {}
  },
  {
   "cell_type": "code",
   "execution_count": 4,
   "source": [
    "sg.theme('Python')\n",
    "\n",
    "layoutStart = [[sg.Button('Create New Database'), sg.Button('Load Database')],\n",
    "          [sg.Button('Close')]]\n",
    "windowStart = sg.Window('Cog*Zam: Create or Load Database', layoutStart)\n",
    "\n",
    "while True:\n",
    "    event, values = windowStart.read()      \n",
    "    if event == sg.WIN_CLOSED or event == 'Close':\n",
    "        break\n",
    "    if event == 'Create New Database':\n",
    "        database = cz.Database()\n",
    "        break\n",
    "    if event == 'Load Database':\n",
    "        layoutLoad = [[sg.Text('Select File'), sg.InputText('Database.pkl'), sg.FileBrowse()],\n",
    "                      [sg.Button('OK'), sg.Button('Cancel')]]\n",
    "        windowLoad = sg.Window('Cog*Zam: Load Database', layoutLoad)\n",
    "        \n",
    "        while True:\n",
    "            event, values = windowLoad.read()\n",
    "            if event == sg.WIN_CLOSED or event == 'Cancel':\n",
    "                break\n",
    "            if event == 'OK':\n",
    "                database = cz.load_database()\n",
    "                break\n",
    "        windowLoad.close()\n",
    "        break\n",
    "windowStart.close()\n",
    "if event != sg.WIN_CLOSED and event != 'Close':\n",
    "    layoutHome = [[sg.Button('Add Song'), sg.Button('Search for Song')],\n",
    "                  [sg.Button('Close')]]\n",
    "    windowHome = sg.Window('Cog*Zam: Function Select', layoutHome)\n",
    "\n",
    "    while True:\n",
    "        event, values = windowHome.read()\n",
    "        if event == sg.WIN_CLOSED or event == 'Close':\n",
    "            break\n",
    "        if event == 'Add Song':\n",
    "            layoutAdd = [[sg.Text('Select File'), sg.InputText('Song.mp3'), sg.FileBrowse()],\n",
    "                         [sg.Text('Input Song Name'), sg.InputText('SongName')],\n",
    "                         [sg.Button('OK'), sg.Button('Cancel')]]\n",
    "            windowAdd = sg.Window('Cog*Zam: Add Song', layoutAdd)\n",
    "\n",
    "            while True:\n",
    "                event, values = windowAdd.read()\n",
    "                if event == sg.WIN_CLOSED or event == 'Cancel':\n",
    "                    break\n",
    "                if event == 'OK':\n",
    "                    cz.add_song(values[0], values[1])\n",
    "                    break\n",
    "            windowAdd.close()\n",
    "        if event == 'Search for Song':\n",
    "            layoutSearch = [[sg.Text('Play Song')]]\n",
    "            windowSearch = sg.Window('Cog*Zam: Song Search', layoutSearch)\n",
    "            answer = cz.song_search\n",
    "            windowSearch.close()\n",
    "\n",
    "            layoutAnswer = [[sg.Text('Song is: ' + answer)],\n",
    "                            [sg.Button('OK')]]\n",
    "            windowAnswer = sg.Window('Cog*Zam: Output', layoutAnswer)\n",
    "            \n",
    "            while True:\n",
    "                event, values = windowAnswer.read()\n",
    "                if event == sg.WIN_CLOSED or event == 'OK':\n",
    "                    break\n",
    "            windowAnswer.close()\n",
    "    windowHome.close()\n",
    "\n"
   ],
   "outputs": [],
   "metadata": {}
  },
  {
   "cell_type": "code",
   "execution_count": null,
   "source": [],
   "outputs": [],
   "metadata": {}
  }
 ],
 "metadata": {
  "kernelspec": {
   "display_name": "Python 3",
   "language": "python",
   "name": "python3"
  },
  "language_info": {
   "codemirror_mode": {
    "name": "ipython",
    "version": 3
   },
   "file_extension": ".py",
   "mimetype": "text/x-python",
   "name": "python",
   "nbconvert_exporter": "python",
   "pygments_lexer": "ipython3",
   "version": "3.8.10"
  }
 },
 "nbformat": 4,
 "nbformat_minor": 5
}